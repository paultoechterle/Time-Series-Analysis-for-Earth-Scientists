{
 "cells": [
  {
   "attachments": {},
   "cell_type": "markdown",
   "id": "51963364",
   "metadata": {},
   "source": [
    "# Time Series Analysis for Earth Scientists\n",
    "\n",
    "The following script is part of the lecture VO-715208 *Spatial data in earth sciences* and contains an interactive course for MSc level earth science students. Contrary to the title of the course, we won't be looking at the spatial domain of geodata, but the temporal expression of it - in other words, the geological time series.\n",
    "\n",
    "<div style=\"text-align: center\"><img src=\"img/column.jpg\" width=\"500\">&copy; Ray Troll</div>\n",
    "\n",
    "As earth scientist, we usually find our data in a spatial domain - for example a drill core through sedimentary sequence or a geochemical transect through a crystal. However, we usually want to interpret our data in a temporal domain, because that's what makes sense to us as humans. The ability to translate back and forth between temporal and spatial domains is at the very core of an earth scientist's skill set. The field of **geochronology** revolves around this translation and the analysis of geodata in spatial domain.\n",
    "\n",
    "In recent years, these kind of analyses have become quite sophisticated and - for lack of a better word - *mathsy*. Large volumes of data require us to learn how to use new tools to handle them. Surprisingly, **programming skills** are still rarely taught in earth science curricula - but things are changing. We also want to provide you with the opportunity jump into the deep end of data analysis with Python, which arguably is the most popular programming language today.\n",
    "\n",
    "As expected **learning outcomes** of this 3-hour course, you will hopefully be able to:\n",
    "* read and reproduce basic python scripts;\n",
    "* google your way through a task;\n",
    "* understand the basic concepts of age-depth modelling, including what software packages are available;\n",
    "* perform basic analyses on time series like smoothing, averaging, filtering;\n",
    "* explain to someone what spectral analysis is.\n",
    "\n",
    "For this purpose, we will look at some real-world research examples together. You are given **sample data and pieces of code**. Most of the code will work fine as it is and you just need to execute it. However, in some places you'll have to scratch your head a bit and **fill in gaps in the code**, in order to make it work.\n",
    "\n",
    "\n",
    "<div class=\"alert alert-block alert-warning\">\n",
    "<h2>Disclaimer:</h2>\n",
    "    <p>In this very short course, you will not be able to learn coding to a degree, which will allow you to complete all of your tasks in Python. In fact, you will hardly write any code at all and mainly just execute existing code. The goal here is not to teach you Python, but get you started on the journey and show you how and where to help yourself - meaning how to google things. <b>Effectively seeking information online is not cheating but an essential skill for programmers of all levels (maybe event the MOST essential)</b>.</p>\n",
    "    \n",
    "<p><b>Some Ressources:</b> \n",
    "<ul>\n",
    "<li><a href=\"https://www.youtube.com/\">YouTube</a> has a number of unbeliveably high quality tutorial videos available. This is where learning happens in 2022, especially at the beginner and intermediate skill level.</li>\n",
    "<li><a href=\"https://stackoverflow.com/\">Stackoverflow</a>  is THE place for all questions related to programming. Most of your Google searches will lead you there.</li>\n",
    "<li>Many code libraries that you will use constantly have great documentation including sample code for most standard applications. Examples are <a href=\"https://matplotlib.org/stable/index.html\">Matplotlib</a>, <a href=\"https://numpy.org/doc/stable/\">Numpy</a> and <a href=\"https://pandas.pydata.org/docs/index.html\">Pandas</a>\n",
    "</li>\n",
    "<li>There are other courses at the University of Innsbruck that teach programming at various skill levels. Fabien Maussion has the materials for his courses <a href=\"https://fabienmaussion.info/intro_to_programming/welcome.html\">Introduction to Programming</a> and <a href=\"https://fabienmaussion.info/scientific_programming/welcome.html\">Scientific Programming</a> uploaded to his website - highly recommended!\n",
    "</li>\n",
    "</ul>\n",
    "</p>\n",
    "</div>\n",
    "\n",
    "### Table of Contents: \n",
    "\n",
    "1. [Part 1](#Part-1:-Python-Warm-Up): **Python Warm-Up**\n",
    "    1. [basic calculations](#Some-Basics)\n",
    "    2. [using functions](#Using-Functions)\n",
    "    3. [using packages](#Packages)\n",
    "2. [Part 2](#Part-2:-The-Age-Depth-Model): **The Age-Depth Model**\n",
    "    1. [Example](#An-Example) using linear interpolation\n",
    "    2. [More about](#More-About-Age-Depth-Models) age-depth models andfreely available age modelling software.\n",
    "3. [Part 3](#Part-3:-Time-Series-Analysis): **Time Series Analysis**\n",
    "    1. [The Fourier Transform](#Fourier-Transform)\n",
    "    2. [Bonus bit](#Bonus-bit)\n",
    "\n",
    "\n",
    "<div style=\"text-align: right\">[<a href='#Time-Series-Analysis-for-Earth-Scientists'>Back to top</a>]</div>\n",
    "\n",
    "---\n",
    "\n",
    "## Part 1: Python Warm-Up\n",
    "\n",
    "Python is a very easy-to-learn and versatile programming language. The main advantages are that it is \n",
    "1. intuitive and can be read **almost like english** text and\n",
    "2. open source - wich means **free**\n",
    "3. has a **HUGE community** - you are unlikely to have a problem which has not been solved by someone on the internet before.\n",
    "\n",
    "Of course, there's more options than Python. In academia, [R Studio](https://www.rstudio.com/) and [Matlab](https://de.mathworks.com/products/matlab.html) are popular alternatives. They are very similar and each of them have their pros and cons. Arguably, Python is the most popular as of 2022.\n",
    "\n",
    "### Some Basics\n",
    "\n",
    "Here, we're using *jupyter notebook* as an interface, to write and execute Python code. You can create empty cells which can run a piece of Python code. To execute the code in a cell, select the cell by clicking on it and press the &#9658; `Run` button on the user interface or `Shift + Enter` on your keyboard."
   ]
  },
  {
   "cell_type": "code",
   "execution_count": null,
   "id": "758886dd",
   "metadata": {},
   "outputs": [],
   "source": [
    "3 * 7"
   ]
  },
  {
   "cell_type": "markdown",
   "id": "11b9fef0",
   "metadata": {},
   "source": [
    "<div class=\"alert alert-block alert-success\">\n",
    "    <b>Try this:</b> <br> Create a new cell below this one. Check out <a href=\"https://www.w3schools.com/python/gloss_python_arithmetic_operators.asp\">this list</a> to learn what mathematical operators there are in python. Then, <b>calculate the result</b> of the following expression. You'll have to use parenthesis <code>( )</code> to modify the order in which Python calculates the values, just like with any calculator. <br><br>\n",
    "$\\dfrac{17^{5+0.1}}{10^{\\frac{1}{3}}} = ???$\n",
    "    \n",
    "<b>Insert the missing code at ### ??? ###</b>\n",
    "</div>"
   ]
  },
  {
   "cell_type": "code",
   "execution_count": null,
   "id": "b2634d1b",
   "metadata": {},
   "outputs": [],
   "source": [
    "### ??? ###"
   ]
  },
  {
   "cell_type": "markdown",
   "id": "fec8cf7b",
   "metadata": {},
   "source": [
    "The cells can *talk* to each other, meaning that you can refer to a section of code between cells. For example, you can define variables in one cell..."
   ]
  },
  {
   "cell_type": "code",
   "execution_count": null,
   "id": "9e5b1e57",
   "metadata": {},
   "outputs": [],
   "source": [
    "x = 3\n",
    "y = 7"
   ]
  },
  {
   "cell_type": "markdown",
   "id": "17a909a4",
   "metadata": {},
   "source": [
    "... and use them in another one, after the cell was run."
   ]
  },
  {
   "cell_type": "code",
   "execution_count": null,
   "id": "d739a74f",
   "metadata": {},
   "outputs": [],
   "source": [
    "x * y"
   ]
  },
  {
   "cell_type": "markdown",
   "id": "4bfb08e9",
   "metadata": {},
   "source": [
    "The value that you store in a variable doesn't have to be a single integer. For example, it can also be a string of text, a list of numbers or a boolean truth value - almost **anything** in python can be stored as a variable."
   ]
  },
  {
   "cell_type": "code",
   "execution_count": null,
   "id": "a5f7c080",
   "metadata": {},
   "outputs": [],
   "source": [
    "x = 'I am a string '\n",
    "y = [1, 2, 3, 4, 5, 6]\n",
    "z = True"
   ]
  },
  {
   "cell_type": "markdown",
   "id": "7d002bd9",
   "metadata": {},
   "source": [
    "Those can then be used in various operations - play around!"
   ]
  },
  {
   "cell_type": "code",
   "execution_count": null,
   "id": "bf282892",
   "metadata": {},
   "outputs": [],
   "source": [
    "x * 3"
   ]
  },
  {
   "cell_type": "code",
   "execution_count": null,
   "id": "abae4dd7",
   "metadata": {},
   "outputs": [],
   "source": [
    "y * 2"
   ]
  },
  {
   "cell_type": "code",
   "execution_count": null,
   "id": "36286710",
   "metadata": {},
   "outputs": [],
   "source": [
    "print('Is this course awesome? -' + str(z))"
   ]
  },
  {
   "cell_type": "markdown",
   "id": "075506d0",
   "metadata": {},
   "source": [
    "It is good programming practice to **add explainatory comments** to your code, so it's easier for others (including your future self) to understand what the purpose of a piece of code is. By putting a `#` at the beginning of a line, Python will recognize that this line is a comment and ingore it."
   ]
  },
  {
   "cell_type": "code",
   "execution_count": null,
   "id": "071829f6",
   "metadata": {},
   "outputs": [],
   "source": [
    "# This line will not be executed as code.\n",
    "\n",
    "print('This is normal code again') # you can also add a comment at the end of a line"
   ]
  },
  {
   "cell_type": "markdown",
   "id": "7fbab464",
   "metadata": {},
   "source": [
    "<div style=\"text-align: right\">[<a href='#Time-Series-Analysis-for-Earth-Scientists'>Back to top</a>]</div>\n",
    "\n",
    "---\n",
    "\n",
    "### Using Functions\n",
    "\n",
    "In the last example, we used a built-in function of python called `print()` to make a message appear on the screen. Functions (in specific cases also referred to as *methods*) are a very important tool in Python (and coding in general). In very simple terms, a function contains **instructions for the computer on what to do with a given input** from the user. Python has almost <a href=\"https://docs.python.org/3/library/functions.html\">100 built-in functions</a> - some more useful then others. Besides using built-in functions, you can also define your own functions. Maybe you want to make the computer print a personalised message?\n",
    "\n",
    "We define a function named `hello_message( )` and also let Python know, that this function needs 2 input variables from the user: a `name` and an `age`. We also add some comments, that explain the purpose of the function. In the actual function code, we add a couple of strings together to and store the result as a variable (`message = ...`), which will then be returned, when the function is *called*. "
   ]
  },
  {
   "cell_type": "code",
   "execution_count": null,
   "id": "703a8645",
   "metadata": {},
   "outputs": [],
   "source": [
    "def hello_message(name, age):\n",
    "    ''' This function generates a message and includes \n",
    "    the variables name and age.'''\n",
    "    \n",
    "    message = 'Hi ' + name + '! I heard you are ' + str(age) + ' years old, correct?'\n",
    "    \n",
    "    return message"
   ]
  },
  {
   "cell_type": "markdown",
   "id": "f9352bc2",
   "metadata": {},
   "source": [
    "Now we use this function to generate a couple of messages for different people, which we can then print by using the built-in `print()` function again."
   ]
  },
  {
   "cell_type": "code",
   "execution_count": null,
   "id": "0744e634",
   "metadata": {},
   "outputs": [],
   "source": [
    "# generate messages\n",
    "message_for_homer = hello_message('Homer', 58)\n",
    "message_for_lisa = hello_message('Lisa', 12)\n",
    "message_for_apu = hello_message('Apu Nahasapeemapetilon', 35)\n",
    "\n",
    "# print a message for someone\n",
    "print(message_for_apu)\n",
    "print(message_for_homer)"
   ]
  },
  {
   "cell_type": "markdown",
   "id": "bf000a7b",
   "metadata": {},
   "source": [
    "Defining your own functions is a good idea, when you want the same thing done multiple times, but you don't want to type the same lines of code over and over again. **Don't repeat yourself (DRY)** is a fundamental principle in coding and will make your code easier to handle. A good programmer will write code that is short, efficient and easy to read.\n",
    "\n",
    "<div class=\"alert alert-block alert-success\">\n",
    "    <b>Try this:</b> <br>Let's say you have a long list of temperatures in Kelvin, which need to be converted to °C. Use the code below to define a function, that takes a temperature value in Kelvin, subtracts 273.15 and returns the corresponding temperature in °C. <br>\n",
    "    <b>Insert the missing code at ### ??? ###</b>\n",
    "</div>"
   ]
  },
  {
   "cell_type": "code",
   "execution_count": null,
   "id": "9529e02d",
   "metadata": {},
   "outputs": [],
   "source": [
    "def kelvin_to_celsius(###???###):\n",
    "    \n",
    "    t_celsius = ### ??? ###\n",
    "    \n",
    "    return t_celsius"
   ]
  },
  {
   "cell_type": "markdown",
   "id": "0c4a4df7",
   "metadata": {},
   "source": [
    "... and now see if it works by executing the code below."
   ]
  },
  {
   "cell_type": "code",
   "execution_count": null,
   "id": "1f61a475",
   "metadata": {},
   "outputs": [],
   "source": [
    "# Temperatures in Kelvin\n",
    "temperatures = [266.3, 287.6, 298.3, 298.8, 293.2, 277.7, 262.8, 287.4, 295.1,\n",
    "                262.1, 261.6, 293.8, 274.3, 289.4, 266.8, 298.4, 295.7, 273.8,\n",
    "                287.2, 298.6]\n",
    "\n",
    "# Loop over each temperature (t) in the list,\n",
    "# execute the kelvin_to_celcius function and\n",
    "# print the resulting t_in_celcius.\n",
    "\n",
    "for t in temperatures:\n",
    "    t_in_celcius = round(kelvin_to_celsius(t), 1) # calculate the temperature and rounding to 1 digit\n",
    "    print(f'{t_in_celcius} °C') # print the result"
   ]
  },
  {
   "cell_type": "markdown",
   "id": "c01ca3f5",
   "metadata": {},
   "source": [
    "Many people are working on similar things. A key advantage of open source software like Python is, that anyone can contribute by sharing functions they think might be useful for others. There are huge libraries now, which contain many gigabites worth of code. Using these code packages will make your life as a programmer much easier.\n",
    "\n",
    "<div style=\"text-align: right\">[<a href='#Time-Series-Analysis-for-Earth-Scientists'>Back to top</a>]</div>\n",
    "\n",
    "---\n",
    "\n",
    "### Packages\n",
    "\n",
    "As stated above, packages are re-usable collections of code, which provide a **toolkit of functions** for a specific pupose. There are 3 very popular packages which contain very useful functions for our purposes in natural science (There are of course many more, but those are what you are likely to use on a daily basis):\n",
    "* [**Matplotlib**](https://matplotlib.org/stable/index.html) - for making graphs and plotting data (based on the handling and aesthetics of *Matlab*).\n",
    "* [**Numpy**](https://numpy.org/doc/stable/) - matrix/vector mathematics\n",
    "* [**Pandas**](https://pandas.pydata.org/docs/index.html) - data structure, table operations, similar workflow to *Excel*\n",
    "\n",
    "Depending on what installations of Python you have on your computer, you may need to install these packages separateley. In our [Anaconda](https://www.anaconda.com/) distribution, they are already included. To use the functions in those packages in our script, we need to **import** them first.\n",
    "\n",
    "<div class=\"alert alert-block alert-info\">\n",
    "<b>Tip:</b> Like with learning a foreign language, learning programming with packages requires <b>learning the vocabulary</b>. You need to know the names of the functions, in order to call them in your code. You will find heaps of so-called <b>cheat sheets</b> on the internet, which summarise the most used functions of a package. Here are some examples: <br>\n",
    "    <a href=\"https://matplotlib.org/cheatsheets/cheatsheets.pdf\">matplotlib cheat sheet</a> | \n",
    "    <a href=\"http://datacamp-community-prod.s3.amazonaws.com/ba1fe95a-8b70-4d2f-95b0-bc954e9071b0\">numpy cheat sheet</a> | \n",
    "    <a href=\"https://pandas.pydata.org/Pandas_Cheat_Sheet.pdf\">pandas cheat sheet</a>\n",
    "</div>\n"
   ]
  },
  {
   "cell_type": "code",
   "execution_count": null,
   "id": "1579cda2",
   "metadata": {},
   "outputs": [],
   "source": [
    "%matplotlib notebook\n",
    "import pandas as pd\n",
    "import numpy as np\n",
    "import matplotlib.pyplot as plt"
   ]
  },
  {
   "cell_type": "markdown",
   "id": "4befa0cb",
   "metadata": {},
   "source": [
    "Typically, people use abbreviations for those packages like `import ... as ...` instead of the full name to save time and space. We can now use some of the functions to produce some numbers, manipulate them mathematically, and visualise the results. As an example, let's try and make a **graph of a sine wave**.\n",
    "\n",
    "First, we need to produce the data. We use the *numpy* function `np.linspace()`to define an array of 20 x values between 0 and 2*$\\pi$. Then we use another *numpy* function, to calculate the sine of these x values, which will become the y values of our function.\n",
    "\n",
    "<div class=\"alert alert-block alert-info\">\n",
    "    <b>Tip:</b> Move the cursor between the <mark>( )</mark> of a function and press <mark>shift + tab</mark> to see the documentation text of this particular function. Note that the cell needs to be executed first for this to work.\n",
    "</div>"
   ]
  },
  {
   "cell_type": "code",
   "execution_count": null,
   "id": "57a0c31b",
   "metadata": {},
   "outputs": [],
   "source": [
    "# generate arrays for x and sin(x)\n",
    "\n",
    "x_data = np.linspace(0, 2*np.pi, 20) # 20 numbers from 0 to 2*pi \n",
    "y_data = np.sin(x_data) # returns the sine of each number in x_data\n",
    "\n",
    "x_data, y_data # view results"
   ]
  },
  {
   "cell_type": "markdown",
   "id": "fa512ab8",
   "metadata": {},
   "source": [
    "Now, we can use *matplotlib* to make the plot. We generate a figure `f` and an axis `a`, which is a standard way to set up a plot - don't think too much about it, it's complicated.\n",
    "\n",
    "Next, we can use the `plot()` function of *matplotlib*, and make it plot the two arrays we just created. We then also use some `set_()` functions to add axis labels and a title."
   ]
  },
  {
   "cell_type": "code",
   "execution_count": null,
   "id": "f7d86180",
   "metadata": {},
   "outputs": [],
   "source": [
    "# now we can set up a matplotlib figure\n",
    "f, a = plt.subplots()\n",
    "\n",
    "# plot our data variables\n",
    "a.plot(x_data, y_data)\n",
    "\n",
    "# and add some labels to make the plot clearer\n",
    "a.set_xlabel('x')\n",
    "a.set_ylabel('sin(x)')\n",
    "a.set_title('plot of a sine function')"
   ]
  },
  {
   "cell_type": "markdown",
   "id": "fed3be2f",
   "metadata": {},
   "source": [
    "<div class=\"alert alert-block alert-success\">\n",
    "    <b>Try this:</b> <br>Make a new plot which shows the <b>cosine</b> of <mark>x_data</mark>, but instead of a line plot, make it show <b>only black points</b> without connecting lines. Try googling for <i>'numpy cosine'</i> and <i>'matplotlib plot only points'</i>. Note: There are many ways to do this.\n",
    "<br> <b>Insert the missing code at ### ??? ###</b>\n",
    "</div>"
   ]
  },
  {
   "cell_type": "code",
   "execution_count": null,
   "id": "bfa8a23e",
   "metadata": {},
   "outputs": [],
   "source": [
    "x_data = np.linspace(0, 2*np.pi, 20) # 20 numbers from 0 to 2*pi \n",
    "y_data = ### ??? ###\n",
    "\n",
    "# now we can set up a matplotlib figure\n",
    "f, a = plt.subplots()\n",
    "\n",
    "# and plot our data variables\n",
    "### ??? ###\n",
    "\n",
    "# and also add some labels to make the plot clearer\n",
    "a.set_xlabel('???')\n",
    "a.set_ylabel('???')\n",
    "a.set_title('???')"
   ]
  },
  {
   "attachments": {},
   "cell_type": "markdown",
   "id": "dcc9ea86",
   "metadata": {},
   "source": [
    "We're now ready to move on to more relevant topics for earth sciences.\n",
    "\n",
    "<div style=\"text-align: right\">[<a href='#Time-Series-Analysis-for-Earth-Scientists'>Back to top</a>]</div>\n",
    "\n",
    "---\n",
    "\n",
    "## Part 2: The Age-Depth Model\n",
    "\n",
    "A very common task in earth sciences is **generating a paleo-record from a geological archive**. This could be a time-series of temperature from an ice core, primary production of foraminifera from an ocean drilling project, or bioderversity from a carbonate sequence. What all of these examples have in common is that they require to transfer data **from a spatial domain** (usually depth) **to a temporal domain** (time before present).\n",
    "\n",
    "There is a great presentation on YouTube which explains the fundamental concepts. Watch it <a href=\"https://youtu.be/cOSfqeazv4U\">HERE</a>.\n",
    "\n",
    "\n",
    "### An Example\n",
    "\n",
    ">The data for the following example where taken and adapted slightly from [this study](https://doi.org/10.1016/j.quascirev.2015.07.012).\n",
    "\n",
    "Information on climate can get recorded in stalagmites and flowstones, which we find in caves. A typical method is to sample very high resolution stable isotope tracks ($\\delta^{18}O$ and $\\delta^{13}C$), and pair this information with $U/Th$ analyses, which give us ages at a much lower resolution.\n",
    "\n",
    "Imagine, you're working on the piece of stalagmite below, that you've found in a cave in the alps. The line down the middle marks where samples for stable isotope analysis have been taken every 0.2 mm. The $\\delta^{18}O$ values of this stalagmite will be the climate proxy, that we analyse from here on. The blue dots on the picture mark where $U/Th$ samples were taken for dating.\n",
    "\n",
    "<div style=\"text-align: center\">\n",
    "<img src=\"img/Stal.png\" />\n",
    "</div>\n",
    "\n",
    "The data was compiled in an Excel file `Moseley_2015.xlsx` which has 2 work sheets - one for `age_data` and one for `isotope_data`. We can now read these data from the Excel file into Python, to continue working with it. For this purpose, the Python package **pandas** provides very useful functionality and a data structure that is similar to Excel. Pandas makes table calculations in python very easy.\n",
    "\n",
    "<div class=\"alert alert-block alert-info\">\n",
    "<b>Tip:</b> Make sure that the Excel table has appropriate formatting. This means <b>no special characters, <code>_</code> instead of <code>   </code> and one variable for each column</b>. Otherwise, you may run into syntax problems later on. Also, be aware of <code>,</code> and <code>.</code> as decimal comma, which is a common source of issues if you run Microsoft Office in German.\n",
    "<img src=\"img/excel.png\" />\n",
    "</div>"
   ]
  },
  {
   "cell_type": "code",
   "execution_count": null,
   "id": "70b4f589",
   "metadata": {},
   "outputs": [],
   "source": [
    "# read data from the excel file and\n",
    "# create what's known as a pandas DataFrame\n",
    "age_df = pd.read_excel('example_data/Moseley_2015.xlsx',\n",
    "                       sheet_name='age_data') # age dataframe\n",
    "\n",
    "proxy_df = pd.read_excel('example_data/Moseley_2015.xlsx',\n",
    "                         sheet_name='isotope_data') # proxy dataframe\n",
    "\n",
    "age_df.head() # show the first rows of the age dataframe"
   ]
  },
  {
   "cell_type": "markdown",
   "id": "da755621",
   "metadata": {},
   "source": [
    "As we stated in the beginning, the goal of an age-depth model is to **tranfer the proxy data from depth domain to time domain**. In other words: We know the isotope value of each layer at a resolution of 0.2 mm - For this to become a climate record, we need to know what the age of each of those proxy values is!\n",
    "\n",
    "<div class=\"alert alert-block alert-info\">\n",
    "    <b>Tip:</b> When working with <i>pandas DataFrames</i>, you can select a single column using <code>df_name.column_name</code>. For example, if we want to select only the d13C values from our proxy data, we could do it like this: <code>proxy_df.d13c</code> ... Try it out!\n",
    "</div>\n",
    "\n",
    "Let's make some plots of our data to visualise what we're working with:"
   ]
  },
  {
   "cell_type": "code",
   "execution_count": null,
   "id": "8b5a78c4",
   "metadata": {},
   "outputs": [],
   "source": [
    "# generate a figure with 2 subplots and a shared x axis\n",
    "f, (a1,a2) = plt.subplots(2, 1, sharex=True)\n",
    "\n",
    "# first subplot\n",
    "# make a plot with errorbars of ages vs depth\n",
    "a1.errorbar(age_df.dft, age_df.age, yerr=age_df.age_error,\n",
    "            fmt='o ', color='k', capsize=3)\n",
    "# add labels\n",
    "a1.set_title('Data in depth-domain')\n",
    "a1.set_ylabel('Age [ka BP]')\n",
    "\n",
    "# second subplot\n",
    "# plot proxy data (d18o) vs depth\n",
    "a2.plot(proxy_df.dft, proxy_df.d18o, lw=1)\n",
    "#add labels\n",
    "a2.set_xlabel('Distance from top [mm]')\n",
    "a2.set_ylabel(r'$\\delta^{18}O$ [‰ VPDB]')"
   ]
  },
  {
   "cell_type": "markdown",
   "id": "9c1e03c2",
   "metadata": {},
   "source": [
    "We can clearly see that the stalagmite grew from \\~115 ka BP to \\~135 ka BP. We also see, that the $\\delta^{18}O$ value shows a large shift from low values (\\~-11 ‰ at 310 mm) to higher values (\\~-8.5 ‰ from 290 mm upwards), which could be the result of a dramatic climate change event.\n",
    "\n",
    "<div class=\"alert alert-block alert-success\">\n",
    "    <b>Try this:</b> <br>Use the <i>zoom tool</i> of the matplotlib interface to investigate the 2 graphs above in detail. Try and figure out <b>how many years befor present the shift from cold to warm climate happened</b>?\n",
    "</div>\n",
    "\n",
    "With these plots together, it is clearly possible to derive an age estimate for a single point of the proxy record - but it's not very efficient to do this by hand. Let's try and come up with a mathematical function, that assigns an interpolated age for **every proxy measurement** - i.e. an age-depth model.\n",
    "\n",
    "The simplest way to do this is by **linear interpolation**. To do so, we'll borrow a function from a package called *SciPy*, which allows us to quickly fit a function to our age-depth data and calculate the age for every depth of our proxy measurements with just a few lines of code."
   ]
  },
  {
   "cell_type": "code",
   "execution_count": null,
   "id": "7506beda",
   "metadata": {},
   "outputs": [],
   "source": [
    "# linear interpolation age model\n",
    "# import interpolation function from scipy package\n",
    "from scipy.interpolate import interp1d\n",
    "\n",
    "# fit a linear function to the age data\n",
    "linear_func = interp1d(age_df.dft, age_df.age,\n",
    "                       fill_value='extrapolate')\n",
    "\n",
    "# apply this function to the depth array of proxy data\n",
    "# save the results to the proxy dataframe\n",
    "proxy_df['linear_age'] = linear_func(proxy_df.dft)\n",
    "proxy_df.head() # show results"
   ]
  },
  {
   "cell_type": "markdown",
   "id": "034372ab",
   "metadata": {},
   "source": [
    "We now know the age of each proxy value. That means, we can make a new plot, where we don't have proxy vs. depth anymore, but **proxy vs time**. We successfully tranferred our data into time domain!"
   ]
  },
  {
   "cell_type": "code",
   "execution_count": null,
   "id": "71d18e4a",
   "metadata": {},
   "outputs": [],
   "source": [
    "# plotting the results\n",
    "f, (a1, a2) = plt.subplots(2,1)\n",
    "\n",
    "a1.errorbar(age_df.dft, age_df.age, yerr=age_df.age_error,\n",
    "            fmt='o ', color='k', capsize=3, label='Age Data')\n",
    "\n",
    "a1.plot(proxy_df.dft, proxy_df.linear_age, lw=1,\n",
    "        label='Linear Model')\n",
    "\n",
    "a1.set_title('Linear Interpolation Age Model')\n",
    "a1.set_xlabel('Distance from top [mm]')\n",
    "a1.set_ylabel('Age [ka BP]')\n",
    "a1.legend()\n",
    "\n",
    "a2.plot(proxy_df.linear_age, proxy_df.d18o, lw=1,\n",
    "        label='Linear Model')\n",
    "\n",
    "a2.set_xlabel('Age [ka BP]')\n",
    "a2.set_ylabel(r'$\\delta^{18}O$ [permil VSMOW]')\n",
    "a2.set_title('Time Domain')\n",
    "\n",
    "plt.tight_layout()"
   ]
  },
  {
   "attachments": {},
   "cell_type": "markdown",
   "id": "6ed6ff5f",
   "metadata": {},
   "source": [
    "We can now see more easily how climate changed over time. Scroll up and down to compare how the proxy record looks in depth and time domain. Note how the **data got streched out and squeezed together**, depending on the slope of the linear interpolation (i.e. the growth rate of the sample) in a given depth interval.\n",
    "\n",
    "<div style=\"text-align: right\">[<a href='#Time-Series-Analysis-for-Earth-Scientists'>Back to top</a>]</div>\n",
    "\n",
    "---\n",
    "\n",
    "### More About Age-Depth Models\n",
    "\n",
    "Linear models, like the one we just produced, are probably the easiest way to do age modelling and allow us to do a quick first assessment of a dataset. However, they are mostly frowned upon today because of several issues:\n",
    "* Age uncertainty is ignored\n",
    "* Unrealistic shifts in sedimentation rate\n",
    "* Outliers can't be dealt with\n",
    "\n",
    "To deal with these issues, many ideas have been developed. Today, there are several highly sophisticated software packages available that can be grouped into two fundamental approaches:\n",
    "* **Regressive/Interpolation Models:** These models essentially calculate an ensemble of thousands of models within the boundaries of age uncertainty, using various interpolation techniques. The ensemble mean and confidence interval are used to estimate the uncertainty of the model.  <br>Popular examples include [COPRA](https://tocsy.pik-potsdam.de/copra.php) (MatLab), [clam](https://chrono.qub.ac.uk/blaauw/clam.html) (R), [StalAge](https://www.geosciences.uni-mainz.de/stalage/) (R) <br> <br>\n",
    "<div style=\"text-align: center\">\n",
    "<img src=\"img/compra.png\" width=\"400\"/>\n",
    "    \"classical age modelling approach with <i>COPRA</i>. <a href=\"https://doi.org/10.5194/cpd-8-2369-2012\">Breitenbach et al. (2012)</a><br><br><br>\n",
    "</div>\n",
    "* **Bayesian Models:** As the name suggests, these models use [Bayes\\' theorem](https://youtu.be/HZGCoVF3YvM) to build a statistical age model based on probabilities. They incorporate prior information on sedimentation rate, stratigraphy and other things. For example, it is not possible that a stratigraphically high layer is older than a lower layer. Bayesian model are somewhat of a **gold standard for age modelling** in most cased these days. However, they computationally expensive and even simple models can take hours to run.<br>Popular examples include [Oxcal](https://c14.arch.ox.ac.uk/oxcal.html) (online standalone), [Bchron](https://andrewcparnell.github.io/Bchron/) (R), [Bacon](https://chrono.qub.ac.uk/blaauw/bacon.html) (R)<br> <br>\n",
    "<div style=\"text-align: center\">\n",
    "<img src=\"img/Bacon.png\" width=\"500\"/>\n",
    "    Bayesian age model calculated with <i>Bacon</i>. <a href=\"https://doi.org/10.1214/11-BA618\">Blaauw & Christen (2011)</a><br><br><br>\n",
    "</div>\n",
    "In this lecture, we're not going into more details. Should you decide on a project that involves some sort of age modelling, we will revisit this topic individually and take you through the appropriate software.\n",
    "\n",
    "<div style=\"text-align: right\">[<a href='#Time-Series-Analysis-for-Earth-Scientists'>Back to top</a>]</div>\n",
    "\n",
    "---\n",
    "\n",
    "## Part 3: Time Series Analysis\n",
    "\n",
    "Time series analysis is a fundamental tool in many fields like astronomy, acoustics, quantum mechanics, engineering, the stock market and as we will see soon - also in earth sciences. Time series are everywhere and people who understand them are highly sought after professionals. The skills you acquire in this field are probably the ones that are easiest to monetise in your post-academic carreer.\n",
    "\n",
    "That being said, **time series analysis is hard**. In this course, we will only be able to skim the very surface of what's possible. It will take years to become proficient and I myself am not there yet.\n",
    "\n",
    "In this last section, we'll be looking at the relationship between climate and the earths orbit. We will apply some basic analytical tools to a 5-million-year long marine record of $\\delta^{18}O$ in benthic foraminifera (often called the *LR04 stack*), that was [published in 2005](https://doi.org/10.1029/2004PA001071). This study became very famous and is somewhat of a *bible* for paleoclimatology.\n",
    "\n",
    "Let's look at the data:"
   ]
  },
  {
   "cell_type": "code",
   "execution_count": null,
   "id": "c66282ed",
   "metadata": {},
   "outputs": [],
   "source": [
    "# read the data from the csv file\n",
    "LR04 = pd.read_csv('example_data/LR04.csv')\n",
    "\n",
    "# set up a plot\n",
    "f, a = plt.subplots()\n",
    "\n",
    "# plot the time series\n",
    "a.plot(LR04.time, LR04.d18o)\n",
    "a.invert_yaxis() # we're inverting the axis - see below why\n",
    "\n",
    "a.set_title('LR04 benthic stack')\n",
    "a.set_xlabel('Age [ka BP]')\n",
    "a.set_ylabel(r'$\\delta^{18}O$ [‰]')"
   ]
  },
  {
   "cell_type": "markdown",
   "id": "1d94dddb",
   "metadata": {},
   "source": [
    "This data is typically interpreted as a **record of the ice volume** effect on the isotopic composition of the world's ocean. High $\\delta^{18}O$ means a lot of ice, low $\\delta^{18}O$ means very little ice. We've flipped the y-axis in out plot so it's more intuitive (up is warm climate and little ice, down is cold climate and lots of ice).\n",
    "\n",
    "At this scale, the data looks pretty noisy. A standard tool is to use a **rolling mean** to smooth it out."
   ]
  },
  {
   "cell_type": "code",
   "execution_count": null,
   "id": "88542e88",
   "metadata": {},
   "outputs": [],
   "source": [
    "ws = 100 # window size (in years)\n",
    "# add a column with the smoothed data to the dataframe\n",
    "LR04['smooth'] = LR04.d18o.rolling(ws, center=True).mean()\n",
    "\n",
    "# plot the results\n",
    "f, a = plt.subplots()\n",
    "\n",
    "# original data\n",
    "a.plot(LR04.time, LR04.d18o, lw=1,\n",
    "       label='orig. data')\n",
    "# smooth data\n",
    "a.plot(LR04.time, LR04.smooth, color='red',\n",
    "       label= str(ws) + ' ka mean')\n",
    "a.invert_yaxis()\n",
    "\n",
    "# labels and legend\n",
    "a.set_title('LR04 benthic stack')\n",
    "a.set_xlabel('Age [ka BP]')\n",
    "a.set_ylabel(r'$\\delta^{18}O$ [‰]')\n",
    "a.legend()"
   ]
  },
  {
   "cell_type": "markdown",
   "id": "e49f6dde",
   "metadata": {},
   "source": [
    "<div class=\"alert alert-block alert-success\">\n",
    "    <b>Try this:</b> <br>Change the size of the rolling window <code>ws</code> in the cell above. What's the effect? What is the best window size for this example in your oppinion and why?\n",
    "</div>\n",
    "\n",
    "Another crucial observation is, that the amplitude of the signal seems to become smaller, the further back in time we go. Let's also add the rolling standard deviation to the plot:"
   ]
  },
  {
   "cell_type": "code",
   "execution_count": null,
   "id": "489719be",
   "metadata": {},
   "outputs": [],
   "source": [
    "ws = 100 # window size\n",
    "# add a column with the smoothed data to the dataframe\n",
    "LR04['smooth'] = LR04.d18o.rolling(ws, center=True).mean()\n",
    "LR04['smooth_std'] = LR04.d18o.rolling(ws, center=True).std()\n",
    "\n",
    "# plot the results\n",
    "f, a1 = plt.subplots()\n",
    "\n",
    "# original data\n",
    "a1.plot(LR04.time, LR04.d18o, lw=1,\n",
    "       label='orig. data')\n",
    "# smooth data\n",
    "a1.plot(LR04.time, LR04.smooth, color='red',\n",
    "       label= str(ws) + ' ka mean')\n",
    "a1.invert_yaxis()\n",
    "\n",
    "# add a second y axis for the standard deviation\n",
    "a2 = plt.twinx(a1)\n",
    "a2.plot(LR04.time, LR04.smooth_std, color='navy',\n",
    "       label= str(ws) + ' ka st.dev.')\n",
    "\n",
    "# labels and legend\n",
    "a1.set_title('LR04 benthic stack')\n",
    "a1.set_xlabel('Age [ka BP]')\n",
    "a1.set_ylabel(r'$\\delta^{18}O$ [‰]')\n",
    "a2.set_ylabel(r'$st.dev.(\\delta^{18}O)$')\n",
    "f.legend()"
   ]
  },
  {
   "cell_type": "markdown",
   "id": "3e9009f8",
   "metadata": {},
   "source": [
    "Overall, we see a clear trend that shows how the earth's ice volume progressive increased over the past 5 million years. Since the data is already evenly spaced at a 1 kiloyear resolution, we can use simple **linear regression to quantify this trend**. The package [scipy.stats](https://docs.scipy.org/doc/scipy/reference/stats.html) has all statistical tools you will need, including a function for linear regression called `linregress()`."
   ]
  },
  {
   "cell_type": "code",
   "execution_count": null,
   "id": "d324f929",
   "metadata": {},
   "outputs": [],
   "source": [
    "# import a linear regression function from SciPy\n",
    "from scipy.stats import linregress\n",
    "\n",
    "# fit a linear function to the time and proxy data of\n",
    "# the benthic stack\n",
    "fit = linregress(LR04.time, LR04.d18o)\n",
    "\n",
    "# calculate the linear function, \n",
    "# remember: f(x) = slope * x + intercept\n",
    "d18o_linear = fit.slope * LR04.time + fit.intercept\n",
    "\n",
    "# plot the results\n",
    "f, a = plt.subplots()\n",
    "\n",
    "a.plot(LR04.time, LR04.d18o, label='orig. data')\n",
    "a.plot(LR04.time, d18o_linear, label='linear fit')\n",
    "a.invert_yaxis()\n",
    "\n",
    "a.set_title('LR04 benthic stack')\n",
    "a.set_xlabel('Age [ka BP]')\n",
    "a.set_ylabel(r'$\\delta^{18}O$ [‰]')\n",
    "a.legend()\n",
    "\n",
    "print('Regression: y = ' + str(fit.slope.round(5)) + ' * x + ' + str(fit.intercept.round(2)))"
   ]
  },
  {
   "cell_type": "markdown",
   "id": "0281b14a",
   "metadata": {},
   "source": [
    "So far, we only did some very basic statistics with the data, that hardly qulaifies as proper time series analysis. It's time to introduce the most powerful weapon in our time series arsenal.\n",
    "\n",
    "<div style=\"text-align: right\">[<a href='#Time-Series-Analysis-for-Earth-Scientists'>Back to top</a>]</div>\n",
    "\n",
    "---\n",
    "\n",
    "\n",
    "### Fourier Transform\n",
    "\n",
    "Jospeh Fourier (1768-1830) spent the later part of his career pondering over differential processes, in particular the diffusion of heat in a medium. As a by-product of his analysis, he stated that\n",
    "> any function, whether continuous or discontinuous, can be expanded into a series of sines.\n",
    "\n",
    "In our context of time series analysis, this means that every time series can be reproduced by adding up sine waves of different frequency and amplitude. Conversely, it is also possible to **de-convolute every time series into it's sine wave components**.\n",
    "\n",
    "![Fourier](https://upload.wikimedia.org/wikipedia/commons/7/72/Fourier_transform_time_and_frequency_domains_%28small%29.gif \"fourier\") <br>\n",
    "<div style=\"text-align: center\">\n",
    "    <a href=\"https://en.wikipedia.org/wiki/Fourier_transform\">https://en.wikipedia.org/wiki/Fourier_transform</a>\n",
    "</div>\n",
    "\n",
    "Another way to think of this is as a seperate dimension. We already saw, that a geological time series has a spatial and temporal domain. The Fourier transform allows us to also analyse our data in the **frequency domain**, or in other words: What sine waves (wavelength) give a strong/weak contribution to a time series?\n",
    "\n",
    "While this may sound like an obscure corner of maths with no real-world applications, chances are, you have already encountered a Fourier transform in one way or another on your way to university today. For example, it is used to de-convolute audio signals into their frequency spectrum and manipulate it (for example add more bass), or simply to display it so it looks cool in your car:<br><br>\n",
    "<div>\n",
    "<img src=\"https://j.gifs.com/yEGl9X.gif\" width=\"200\"/>\n",
    "</div>\n",
    "\n",
    "As always, there's a [YouTube video](https://youtu.be/spUNpyF58BY) that explains the details of this topic better than any university lecture ever could.\n",
    "\n",
    "#### But what if we apply it to a climate record?\n",
    "\n",
    "We've already seen that the LR04 stack apparently has lots of relatively high frequency content, that sits on top of a more or less linear long-term trend. If we zoom in to the time period from 0 to 800 ka BP, we can have a better look at the glacial/interglacial cycles during this time period."
   ]
  },
  {
   "cell_type": "code",
   "execution_count": null,
   "id": "52c7dfbe",
   "metadata": {},
   "outputs": [],
   "source": [
    "# select only the last 800 ka of the record\n",
    "part = LR04.query('(time > 0) & (time < 800)')\n",
    "\n",
    "# set up the plot \n",
    "f, a = plt.subplots()\n",
    "\n",
    "# and plot the selected part of the data\n",
    "a.plot(part.time, part.d18o)\n",
    "a.invert_yaxis()\n",
    "\n",
    "# don't forget to add the labels\n",
    "a.set_title('LR04 benthic stack')\n",
    "a.set_xlabel('Age [ka BP]')\n",
    "a.set_ylabel(r'$\\delta^{18}O$ [‰]')"
   ]
  },
  {
   "cell_type": "markdown",
   "id": "a005342c",
   "metadata": {},
   "source": [
    "<div class=\"alert alert-block alert-success\">\n",
    "    <b>Try this:</b> <br> Can you characterise the cyclicity in this part of the record? At what frequency do the ice sheets grow and disappear again?\n",
    "</div>\n",
    "\n",
    "In python, it is very easy to obtain the Fourier transform of this record and analyse the frequency spectrum. We will use yet another code package called [SciPy.signal](https://docs.scipy.org/doc/scipy/reference/signal.html), which contains a plethora of sophisticated tools for time series analysis. We'll be using the `periodogram()` function to derive the frequency array and power array."
   ]
  },
  {
   "cell_type": "code",
   "execution_count": null,
   "id": "ec229ea4",
   "metadata": {},
   "outputs": [],
   "source": [
    "import scipy.signal as sg\n",
    "freq, power = sg.periodogram(part.d18o, window='hann',\n",
    "                             nfft=10**3, scaling='spectrum')\n",
    "\n",
    "freq, power"
   ]
  },
  {
   "cell_type": "markdown",
   "id": "7d056d34",
   "metadata": {},
   "source": [
    "As you see, it only takes a single line of code to do the job. However, we can't really make sense of the numbers until we have plotted them.\n",
    "\n",
    "<div class=\"alert alert-block alert-success\">\n",
    "    <b>Try this:</b> <br> The cell below contains the code to make figure with two subplots. The second part of the code which plots the periodogram (axis <code>a2</code>) is already working. But it would be nice to also see the data in time domain above it, right? Can you add make it that axis <code>a1</code> shows the LR04 time series part from 0 to 800 ka BP? <br> <b>Insert the missing code at ### ??? ###</b>\n",
    "</div>"
   ]
  },
  {
   "cell_type": "code",
   "execution_count": null,
   "id": "361b407b",
   "metadata": {},
   "outputs": [],
   "source": [
    "f,(a1,a2) = plt.subplots(2, 1)\n",
    "\n",
    "# subplot 1: data in time domain\n",
    "### ??? ###\n",
    "a1.invert_yaxis()\n",
    "\n",
    "# labels\n",
    "a1.set_title('LR04 Time Domain')\n",
    "a1.set_xlabel('Age [ka BP]')\n",
    "a1.set_ylabel(r'$\\delta^{18}O$ [‰]')\n",
    "\n",
    "# subplot 2: data in frequency domain, aka. periodogram\n",
    "# The frequency spectrum is best visualised on a log scale\n",
    "a2.semilogx(1/freq, power)\n",
    "\n",
    "# labels\n",
    "a2.set_title('LR04 Frequency Domain')\n",
    "a2.set_xlabel('Period [ka]')\n",
    "a2.set_ylabel('Spectral Power')\n",
    "\n",
    "plt.tight_layout() # clean up the layout so nothing overlaps"
   ]
  },
  {
   "cell_type": "markdown",
   "id": "175352e2",
   "metadata": {},
   "source": [
    "The periodogram, as it is plotted here, shows us the **spectral power of the frequency content** contained in the LR04 benthic stack record over the past 800 kiloyears. In other words, what frequencies are important and which ones don't matter so much.\n",
    "\n",
    "<div class=\"alert alert-block alert-success\">\n",
    "    <b>Try this:</b> <br> What great discovery is revealed by this graph? Discuss!\n",
    "</div>\n",
    "\n",
    "<br>\n",
    "\n",
    "<div style=\"text-align: right\">[<a href='#Time-Series-Analysis-for-Earth-Scientists'>Back to top</a>]</div>\n",
    "\n",
    "---\n",
    "\n",
    "## Bonus bit\n",
    "\n",
    "We've reached the point where the cutting edge of climate science begins. In other lectures, you probably already heard about Milankovic cycles and how small variations in the earth's orbital parameters influence climate on geological timescales. Spectral analyses, the kind you just did yourself, were instrumental in developing this groundbreaking theory. However, there are some aspects which we still do not fully understand.\n",
    "\n",
    "The orbital changes can be precicely calculated back millions of years. Let's have a look at the individual components, namely **Eccentricity**, **Obliquity** and **Precession**. Mixing those together at a certain ratio, gives us the **Insolation at 65 °N**, which is believed to be a good indicator of ice sheet sensitivity to solar forcing."
   ]
  },
  {
   "cell_type": "code",
   "execution_count": null,
   "id": "856ed91a",
   "metadata": {},
   "outputs": [],
   "source": [
    "insol = pd.read_csv('example_data/orbit91.csv')\n",
    "\n",
    "f, (a1,a2,a3,a4,a5) = plt.subplots(5, 1, figsize=(6,8), sharex=True)\n",
    "f.suptitle('Milankovic Theory')\n",
    "\n",
    "a1.plot(insol.Age*-1, insol.ECC)\n",
    "a1.set_ylabel('Eccentrictiy')\n",
    "\n",
    "a2.plot(insol.Age*-1, insol.OBL)\n",
    "a2.set_ylabel('Obliquity')\n",
    "\n",
    "a3.plot(insol.Age*-1, insol.PREC)\n",
    "a3.set_ylabel('Precession')\n",
    "\n",
    "a4.plot(insol.Age*-1, insol['65NJul'])\n",
    "a4.set_ylabel('65°N Jul. Insol.')\n",
    "\n",
    "a5.plot(LR04.time, LR04.d18o)\n",
    "a5.invert_yaxis()\n",
    "a5.set_ylabel(r'$\\delta^{18}O$ [‰]')\n",
    "a5.set_xlabel('Age [ka BP]')\n",
    "a5.set_xlim(0,800)"
   ]
  },
  {
   "cell_type": "markdown",
   "id": "17d5289c",
   "metadata": {},
   "source": [
    "<div class=\"alert alert-block alert-success\">\n",
    "    <b>Try this:</b> <br> What can we do with these data, to test if Milankovic was right?\n",
    "    <img src=\"https://media3.giphy.com/media/DHqth0hVQoIzS/200.gif\" width=\"400\"/>\n",
    "</div>\n",
    "\n",
    "That's right! We can compare the frequency content of our ice volume record and the 65 °N summer insolation."
   ]
  },
  {
   "cell_type": "code",
   "execution_count": null,
   "id": "279a0cc6",
   "metadata": {},
   "outputs": [],
   "source": [
    "freq_insol, power_insol = sg.periodogram(insol['65NJul'], window='hann',\n",
    "                                         nfft=10**3, scaling='spectrum')\n",
    "f, a = plt.subplots()\n",
    "\n",
    "a.semilogx(1/freq, power/power.max(), label='LR04')\n",
    "a.semilogx(1/freq_insol, power_insol/power_insol.max(),\n",
    "           label='Insolation')\n",
    "\n",
    "a.set_title('Comparison, Insolation vs. LR04')\n",
    "a.set_xlabel('Period [ka]')\n",
    "a.set_ylabel('Spectral Power')\n",
    "a.legend()"
   ]
  },
  {
   "cell_type": "markdown",
   "id": "d17222ad",
   "metadata": {},
   "source": [
    "And here's one of the big unsolved mysteries of climate science. Over the past 800 ka, earth's ice sheets were waxing and waning at a frequency of 1/100 ka. On top of that, smaller oscillations occur at roughly 1/41 ka and 1/23 ka. These smaller oscillations can directly be explained by orbital forcing of Milankovic cycles. However, **there is no orbital change happening at 1/100 ka, which could explain the most prominent glacial cycle**!\n",
    "\n",
    "<br>\n",
    "\n",
    "<div>\n",
    "<img src=\"https://media2.giphy.com/media/lXu72d4iKwqek/giphy.gif?cid=ecf05e4734jlkb4nde1jkm0fe9uiuxm8y3qov10qhajqq6rz&rid=giphy.gif&ct=g\" width=\"400\"/>\n",
    "</div>\n",
    "\n",
    "<div style=\"text-align: right\">[<a href='#Time-Series-Analysis-for-Earth-Scientists'>Back to top</a>]</div>\n",
    "\n",
    "---\n",
    "\n",
    "# That's it! Congratulations, you've made it through!\n",
    "\n",
    "If this lecture made you curious to learn more, you can contact me with any question you might have: <a href=\"mailto:paul.toechterle@uibk.ac.at\">paul.toechterle@uibk.ac.at</a> <br><br>\n",
    "\n",
    "To prepare yourself for my part of the exam, dig into the following subjects:\n",
    "* What is an age-depth model and what does it do?\n",
    "* What is a Fourier transform (no fancy maths, just plain english/german)?\n",
    "* What is a periodogram?\n",
    "\n",
    "<div style=\"text-align: right\">[<a href='#Time-Series-Analysis-for-Earth-Scientists'>Back to top</a>]</div>\n",
    "\n",
    "---"
   ]
  }
 ],
 "metadata": {
  "kernelspec": {
   "display_name": "Python 3 (ipykernel)",
   "language": "python",
   "name": "python3"
  },
  "language_info": {
   "codemirror_mode": {
    "name": "ipython",
    "version": 3
   },
   "file_extension": ".py",
   "mimetype": "text/x-python",
   "name": "python",
   "nbconvert_exporter": "python",
   "pygments_lexer": "ipython3",
   "version": "3.9.7"
  }
 },
 "nbformat": 4,
 "nbformat_minor": 5
}
